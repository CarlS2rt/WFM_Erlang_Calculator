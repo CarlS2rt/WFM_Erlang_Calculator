{
 "cells": [
  {
   "cell_type": "code",
   "execution_count": 1,
   "id": "90921d4a",
   "metadata": {},
   "outputs": [],
   "source": [
    "# Example taken from: https://www.callcentrehelper.com/erlang-c-formula-example-121281.htm\n",
    "# Requirement: Find the number of agents required to manage call center transactions\n",
    "# under the following parameters:\n",
    "# Number of calls: 100\n",
    "# In a period of minutes: 30\n",
    "# Average Handling Time (seconds): 180 (3 minutes)\n",
    "# Required Service Level: 80%\n",
    "# Target Answer Time (Seconds): 20\n",
    "# Maximum Occupancy: 85%\n",
    "# Shrinkage: 30%\n"
   ]
  },
  {
   "cell_type": "code",
   "execution_count": 2,
   "id": "4b902251",
   "metadata": {
    "tags": []
   },
   "outputs": [],
   "source": [
    "from pyworkforce.queuing import ErlangC\n",
    "import pandas as pd"
   ]
  },
  {
   "cell_type": "code",
   "execution_count": 3,
   "id": "e27af353",
   "metadata": {},
   "outputs": [],
   "source": [
    "erlang = ErlangC(transactions=37906, aht=9.2, interval=15660, asa=30, shrinkage=0.30)"
   ]
  },
  {
   "cell_type": "code",
   "execution_count": 4,
   "id": "2133d000",
   "metadata": {},
   "outputs": [
    {
     "name": "stdout",
     "output_type": "stream",
     "text": [
      "positions_requirements:  {'raw_positions': 27, 'positions': 39, 'service_level': 0.9999999500072593, 'occupancy': 0.8247840688709144, 'waiting_probability': 0.25038188050012045}\n"
     ]
    }
   ],
   "source": [
    "positions_requirements = erlang.required_positions(service_level=0.65, max_occupancy=0.85)\n",
    "print(\"positions_requirements: \", positions_requirements)"
   ]
  },
  {
   "cell_type": "code",
   "execution_count": 5,
   "id": "2e521d84",
   "metadata": {},
   "outputs": [
    {
     "name": "stdout",
     "output_type": "stream",
     "text": [
      "achieved_service_level:  0.9999999500072593\n"
     ]
    }
   ],
   "source": [
    "achieved_service_level = erlang.service_level(positions=positions_requirements['raw_positions'])\n",
    "print(\"achieved_service_level: \", achieved_service_level)"
   ]
  },
  {
   "cell_type": "code",
   "execution_count": 6,
   "id": "cad30616",
   "metadata": {},
   "outputs": [
    {
     "name": "stdout",
     "output_type": "stream",
     "text": [
      "achieved_service_level:  0.9999999500072593\n"
     ]
    }
   ],
   "source": [
    "achieved_service_level = erlang.service_level(positions=positions_requirements['positions'],\n",
    "                                              scale_positions=True)\n",
    "print(\"achieved_service_level: \", achieved_service_level)"
   ]
  },
  {
   "cell_type": "code",
   "execution_count": 7,
   "id": "1dec74c6",
   "metadata": {},
   "outputs": [
    {
     "name": "stdout",
     "output_type": "stream",
     "text": [
      "waiting_probability:  0.25038188050012045\n"
     ]
    }
   ],
   "source": [
    "waiting_probability = erlang.waiting_probability(positions=positions_requirements['raw_positions'])\n",
    "print(\"waiting_probability: \", waiting_probability)"
   ]
  },
  {
   "cell_type": "code",
   "execution_count": 8,
   "id": "865e15d8",
   "metadata": {},
   "outputs": [
    {
     "name": "stdout",
     "output_type": "stream",
     "text": [
      "achieved_occupancy:  0.8247840688709144\n"
     ]
    }
   ],
   "source": [
    "achieved_occupancy = erlang.achieved_occupancy(positions=positions_requirements['raw_positions'])\n",
    "print(\"achieved_occupancy: \", achieved_occupancy)"
   ]
  },
  {
   "cell_type": "code",
   "execution_count": 9,
   "id": "6d832d25",
   "metadata": {},
   "outputs": [],
   "source": [
    "from pyworkforce.scheduling import MinAbsDifference"
   ]
  },
  {
   "cell_type": "code",
   "execution_count": 21,
   "id": "2490f1cd",
   "metadata": {},
   "outputs": [],
   "source": [
    "# Columns are an hour of the day, rows are the days\n",
    "required_resources = [\n",
    "    [9, 11, 17, 9, 7, 12, 5, 11, 8, 9, 18, 17, 8, 12, 16, 8, 7, 12, 11, 10, 13, 19, 16, 7],\n",
    "    [13, 13, 12, 15, 18, 20, 13, 16, 17, 8, 13, 11, 6, 19, 11, 20, 19, 17, 10, 13, 14, 23, 16, 8]\n",
    "]"
   ]
  },
  {
   "cell_type": "code",
   "execution_count": 22,
   "id": "2a1e4adf",
   "metadata": {},
   "outputs": [],
   "source": [
    "# required_resources = pd.DataFrame(required_resources)\n",
    "# required_resources"
   ]
  },
  {
   "cell_type": "code",
   "execution_count": 23,
   "id": "56e05c77",
   "metadata": {},
   "outputs": [],
   "source": [
    "# Each entry of a shift, is an hour of the day (24 columns)\n",
    "# E_sp\n",
    "shifts_coverage = {\"Morning\": [0, 0, 0, 0, 0, 1, 1, 1, 1, 1, 1, 1, 1, 0, 0, 0, 0, 0, 0, 0, 0, 0, 0, 0],\n",
    "                   \"Afternoon\": [0, 0, 0, 0, 0, 0, 0, 0, 0, 0, 0, 0, 0, 1, 1, 1, 1, 1, 1, 1, 1, 0, 0, 0],\n",
    "                   \"Night\": [1, 1, 1, 1, 1, 0, 0, 0, 0, 0, 0, 0, 0, 0, 0, 0, 0, 0, 0, 0, 0, 1, 1, 1],\n",
    "                   \"Mixed\": [0, 0, 0, 0, 0, 0, 0, 0, 0, 1, 1, 1, 1, 1, 1, 1, 1, 0, 0, 0, 0, 0, 0, 0]}"
   ]
  },
  {
   "cell_type": "code",
   "execution_count": 24,
   "id": "2deafa81",
   "metadata": {},
   "outputs": [],
   "source": [
    "# shifts_coverage = pd.DataFrame(shifts_coverage)\n",
    "# shifts_coverage"
   ]
  },
  {
   "cell_type": "code",
   "execution_count": 25,
   "id": "4acc63d5",
   "metadata": {},
   "outputs": [],
   "source": [
    "scheduler = MinAbsDifference(num_days=2,  # S\n",
    "                             periods=24,  # P\n",
    "                             shifts_coverage=shifts_coverage,\n",
    "                             required_resources=required_resources,\n",
    "                             max_period_concurrency=27,  # gamma\n",
    "                             max_shift_concurrency=25)   # beta"
   ]
  },
  {
   "cell_type": "code",
   "execution_count": 26,
   "id": "71bb7f0e",
   "metadata": {},
   "outputs": [
    {
     "name": "stdout",
     "output_type": "stream",
     "text": [
      "{'status': 'OPTIMAL', 'cost': 157.0, 'resources_shifts': [{'day': 0, 'shift': 'Morning', 'resources': 11}, {'day': 0, 'shift': 'Afternoon', 'resources': 11}, {'day': 0, 'shift': 'Night', 'resources': 11}, {'day': 0, 'shift': 'Mixed', 'resources': 1}, {'day': 1, 'shift': 'Morning', 'resources': 13}, {'day': 1, 'shift': 'Afternoon', 'resources': 14}, {'day': 1, 'shift': 'Night', 'resources': 13}, {'day': 1, 'shift': 'Mixed', 'resources': 0}]}\n"
     ]
    }
   ],
   "source": [
    "solution = scheduler.solve()\n",
    "print(solution)"
   ]
  },
  {
   "cell_type": "code",
   "execution_count": 27,
   "id": "febac568",
   "metadata": {},
   "outputs": [],
   "source": [
    "from pyworkforce.scheduling import MinRequiredResources"
   ]
  },
  {
   "cell_type": "code",
   "execution_count": 28,
   "id": "4e7bfaba",
   "metadata": {},
   "outputs": [],
   "source": [
    "# Columns are an hour of the day, rows are the days\n",
    "required_resources = [\n",
    "    [9, 11, 17, 9, 7, 12, 5, 11, 8, 9, 18, 17, 8, 12, 16, 8, 7, 12, 11, 10, 13, 19, 16, 7],\n",
    "    [13, 13, 12, 15, 18, 20, 13, 16, 17, 8, 13, 11, 6, 19, 11, 20, 19, 17, 10, 13, 14, 23, 16, 8]\n",
    "]"
   ]
  },
  {
   "cell_type": "code",
   "execution_count": 29,
   "id": "5eeb702d",
   "metadata": {},
   "outputs": [],
   "source": [
    "# Each entry of a shift, is an hour of the day (24 columns)\n",
    "shifts_coverage = {\"Morning\": [0, 0, 0, 0, 0, 1, 1, 1, 1, 1, 1, 1, 1, 0, 0, 0, 0, 0, 0, 0, 0, 0, 0, 0],\n",
    "                   \"Afternoon\": [0, 0, 0, 0, 0, 0, 0, 0, 0, 0, 0, 0, 0, 1, 1, 1, 1, 1, 1, 1, 1, 0, 0, 0],\n",
    "                   \"Night\": [1, 1, 1, 1, 1, 0, 0, 0, 0, 0, 0, 0, 0, 0, 0, 0, 0, 0, 0, 0, 0, 1, 1, 1],\n",
    "                   \"Mixed\": [0, 0, 0, 0, 0, 0, 0, 0, 0, 1, 1, 1, 1, 1, 1, 1, 1, 0, 0, 0, 0, 0, 0, 0]}"
   ]
  },
  {
   "cell_type": "code",
   "execution_count": 30,
   "id": "357759f2",
   "metadata": {},
   "outputs": [],
   "source": [
    "# The cost of shifting a resource if each shift, if present, solver will minimize the total cost\n",
    "cost_dict = {\"Morning\": 8, \"Afternoon\": 8, \"Night\": 10, \"Mixed\": 7}"
   ]
  },
  {
   "cell_type": "code",
   "execution_count": 31,
   "id": "a64ac590",
   "metadata": {},
   "outputs": [],
   "source": [
    "scheduler = MinRequiredResources(num_days=2,\n",
    "                                 periods=24,\n",
    "                                 shifts_coverage=shifts_coverage,\n",
    "                                 required_resources=required_resources,\n",
    "                                 cost_dict=cost_dict,\n",
    "                                 max_period_concurrency=25,\n",
    "                                 max_shift_concurrency=25)"
   ]
  },
  {
   "cell_type": "code",
   "execution_count": 32,
   "id": "f6168972",
   "metadata": {},
   "outputs": [
    {
     "name": "stdout",
     "output_type": "stream",
     "text": [
      "{'status': 'OPTIMAL', 'cost': 979.0, 'resources_shifts': [{'day': 0, 'shift': 'Morning', 'resources': 12}, {'day': 0, 'shift': 'Afternoon', 'resources': 13}, {'day': 0, 'shift': 'Night', 'resources': 19}, {'day': 0, 'shift': 'Mixed', 'resources': 6}, {'day': 1, 'shift': 'Morning', 'resources': 20}, {'day': 1, 'shift': 'Afternoon', 'resources': 17}, {'day': 1, 'shift': 'Night', 'resources': 23}, {'day': 1, 'shift': 'Mixed', 'resources': 3}]}\n"
     ]
    }
   ],
   "source": [
    "solution = scheduler.solve()\n",
    "\n",
    "print(solution)"
   ]
  },
  {
   "cell_type": "code",
   "execution_count": null,
   "id": "ceaf9988",
   "metadata": {},
   "outputs": [],
   "source": []
  }
 ],
 "metadata": {
  "kernelspec": {
   "display_name": "Python 3 (ipykernel)",
   "language": "python",
   "name": "python3"
  },
  "language_info": {
   "codemirror_mode": {
    "name": "ipython",
    "version": 3
   },
   "file_extension": ".py",
   "mimetype": "text/x-python",
   "name": "python",
   "nbconvert_exporter": "python",
   "pygments_lexer": "ipython3",
   "version": "3.9.12"
  }
 },
 "nbformat": 4,
 "nbformat_minor": 5
}
